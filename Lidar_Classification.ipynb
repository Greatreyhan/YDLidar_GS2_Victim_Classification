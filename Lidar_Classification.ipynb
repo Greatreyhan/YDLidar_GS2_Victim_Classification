{
  "nbformat": 4,
  "nbformat_minor": 0,
  "metadata": {
    "colab": {
      "provenance": []
    },
    "kernelspec": {
      "name": "python3",
      "display_name": "Python 3"
    },
    "language_info": {
      "name": "python"
    }
  },
  "cells": [
    {
      "cell_type": "markdown",
      "source": [
        "<h2>Import Library</h2>"
      ],
      "metadata": {
        "id": "L4PV4XHAVtbY"
      }
    },
    {
      "cell_type": "code",
      "execution_count": 17,
      "metadata": {
        "id": "eE-1ym8fbhlV"
      },
      "outputs": [],
      "source": [
        "import tensorflow as tf\n",
        "import numpy as np\n",
        "import pandas as pd\n",
        "import os\n",
        "import matplotlib.pyplot as plt\n",
        "import math\n",
        "from tensorflow.keras import layers, models"
      ]
    },
    {
      "cell_type": "code",
      "source": [
        "# Print versions\n",
        "!python --versions\n",
        "print('Numpy ' + np.__version__)\n",
        "print('TensorFlow ' + tf.__version__)"
      ],
      "metadata": {
        "colab": {
          "base_uri": "https://localhost:8080/"
        },
        "id": "SdInYAuNb2Q8",
        "outputId": "a6607e54-756f-4057-a4d8-e8eb30566298"
      },
      "execution_count": 4,
      "outputs": [
        {
          "output_type": "stream",
          "name": "stdout",
          "text": [
            "unknown option --versions\n",
            "usage: python3 [option] ... [-c cmd | -m mod | file | -] [arg] ...\n",
            "Try `python -h' for more information.\n",
            "Numpy 1.25.2\n",
            "TensorFlow 2.15.0\n"
          ]
        }
      ]
    },
    {
      "cell_type": "markdown",
      "source": [
        "<h2>Import Data Log</h2>"
      ],
      "metadata": {
        "id": "L-qe_oxiV1-S"
      }
    },
    {
      "cell_type": "code",
      "source": [
        "PATH = \"./drive/MyDrive/Research/Lidar_Classification/\"\n",
        "files = os.listdir(PATH)\n",
        "print(files)"
      ],
      "metadata": {
        "colab": {
          "base_uri": "https://localhost:8080/"
        },
        "id": "YRowvJNxc3jY",
        "outputId": "2c6fb996-b92c-4369-be46-6aa1417d2068"
      },
      "execution_count": 5,
      "outputs": [
        {
          "output_type": "stream",
          "name": "stdout",
          "text": [
            "['log_center.txt', 'log_right.txt', 'log_left.txt']\n"
          ]
        }
      ]
    },
    {
      "cell_type": "markdown",
      "source": [
        "<h2>Load Data</h2>"
      ],
      "metadata": {
        "id": "reJ0Oe55z3DU"
      }
    },
    {
      "cell_type": "code",
      "source": [
        "############\n",
        "#Class :\n",
        "#- Center = 0\n",
        "#- Right = 1\n",
        "#- Left  = 2\n",
        "############\n",
        "def load_data(path,class_name):\n",
        "  with open(path, 'r') as file:\n",
        "      lines = file.readlines()\n",
        "      data = []\n",
        "      label = []\n",
        "      for line in lines:\n",
        "          values = [float(val) for val in line.strip().split(',')]\n",
        "          data.append(values)\n",
        "          label.append(class_name)\n",
        "  return (np.array(data),label)\n",
        "\n",
        "df_center, label_center = load_data(PATH+files[0],0)\n",
        "df_right, label_right = load_data(PATH+files[1],1)\n",
        "df_left, label_left = load_data(PATH+files[2], 2)"
      ],
      "metadata": {
        "id": "6a5nFJpvdllR"
      },
      "execution_count": 6,
      "outputs": []
    },
    {
      "cell_type": "code",
      "source": [
        "print(df_center,label_center)"
      ],
      "metadata": {
        "colab": {
          "base_uri": "https://localhost:8080/"
        },
        "id": "RsPUkefT_h1L",
        "outputId": "3625735a-47f7-43c2-d7ca-17ad66a7ebdb"
      },
      "execution_count": 9,
      "outputs": [
        {
          "output_type": "stream",
          "name": "stdout",
          "text": [
            "[[  5.88886535 111.34161451 110.24507987 ... 109.16806719 109.2439367\n",
            "  110.3398308 ]\n",
            " [  5.88886535 110.33468988 109.23955704 ... 108.16376659 108.23836602\n",
            "  109.33285171]\n",
            " [  5.88886535 110.33468988 109.23955704 ... 107.15948942 108.23836602\n",
            "  109.33285171]\n",
            " ...\n",
            " [  5.88886535 110.33468988 109.23955704 ... 107.15948942 107.23281884\n",
            "  108.32589553]\n",
            " [  5.88886535 110.33468988 109.23955704 ... 107.15948942 107.23281884\n",
            "  108.32589553]\n",
            " [  5.88886535 110.33468988 109.23955704 ... 107.15948942 107.23281884\n",
            "  108.32589553]] [0, 0, 0, 0, 0, 0, 0, 0, 0, 0, 0, 0, 0, 0, 0, 0, 0, 0, 0, 0, 0, 0, 0, 0, 0, 0, 0, 0, 0, 0, 0, 0, 0, 0, 0, 0, 0, 0, 0, 0, 0, 0, 0, 0, 0, 0, 0, 0, 0, 0, 0, 0, 0, 0, 0, 0, 0, 0, 0, 0, 0, 0, 0, 0, 0, 0, 0, 0, 0, 0, 0, 0, 0, 0, 0, 0, 0, 0, 0, 0, 0, 0, 0, 0, 0, 0, 0, 0, 0, 0, 0, 0, 0, 0, 0, 0, 0, 0, 0, 0, 0, 0, 0, 0, 0, 0, 0, 0, 0, 0, 0, 0, 0, 0, 0, 0, 0, 0, 0, 0, 0, 0, 0, 0, 0, 0, 0, 0, 0, 0, 0, 0, 0, 0, 0, 0, 0, 0, 0, 0, 0, 0, 0, 0, 0, 0, 0, 0, 0, 0, 0, 0, 0, 0, 0, 0, 0, 0, 0, 0, 0, 0, 0, 0, 0, 0, 0, 0, 0, 0, 0, 0, 0, 0, 0, 0, 0, 0, 0, 0, 0, 0, 0, 0, 0, 0, 0, 0, 0, 0, 0, 0, 0, 0, 0, 0, 0, 0, 0, 0, 0, 0, 0, 0, 0, 0, 0, 0, 0, 0, 0, 0, 0, 0, 0, 0, 0, 0, 0, 0, 0, 0, 0, 0, 0, 0, 0, 0, 0, 0, 0, 0, 0, 0, 0, 0, 0, 0, 0, 0, 0, 0, 0, 0, 0, 0, 0, 0, 0, 0, 0, 0, 0, 0, 0, 0, 0, 0, 0, 0, 0, 0, 0, 0, 0, 0, 0, 0, 0, 0, 0, 0, 0, 0, 0, 0, 0, 0, 0, 0, 0, 0, 0, 0, 0, 0, 0, 0, 0, 0, 0, 0, 0, 0, 0, 0, 0, 0, 0, 0, 0, 0, 0, 0, 0, 0, 0, 0, 0, 0, 0, 0, 0, 0, 0, 0, 0, 0, 0, 0, 0, 0, 0, 0, 0, 0, 0, 0, 0, 0, 0, 0, 0, 0, 0, 0, 0, 0, 0, 0, 0, 0, 0, 0, 0, 0, 0, 0, 0, 0, 0, 0, 0, 0, 0, 0, 0, 0, 0, 0, 0, 0, 0, 0, 0, 0, 0, 0, 0, 0, 0, 0, 0, 0, 0, 0, 0, 0, 0, 0, 0, 0, 0, 0, 0, 0, 0, 0, 0, 0, 0, 0, 0, 0, 0, 0, 0, 0, 0, 0, 0, 0, 0, 0, 0, 0, 0, 0, 0, 0, 0, 0, 0, 0, 0, 0, 0, 0, 0, 0, 0, 0, 0, 0, 0, 0, 0, 0, 0, 0, 0, 0, 0, 0, 0, 0, 0, 0, 0, 0, 0, 0, 0, 0, 0, 0, 0, 0, 0, 0, 0, 0, 0, 0, 0, 0, 0, 0, 0, 0, 0, 0, 0, 0, 0, 0, 0, 0, 0, 0, 0, 0, 0, 0, 0, 0, 0, 0, 0, 0, 0, 0, 0, 0, 0, 0, 0, 0, 0, 0, 0, 0, 0, 0, 0, 0, 0, 0, 0, 0, 0, 0, 0, 0, 0, 0, 0, 0, 0, 0, 0, 0, 0, 0, 0, 0, 0, 0, 0, 0, 0, 0, 0, 0, 0, 0, 0, 0, 0, 0, 0, 0, 0, 0, 0, 0, 0, 0, 0, 0, 0, 0, 0, 0, 0, 0, 0, 0, 0, 0, 0, 0, 0, 0, 0, 0, 0, 0, 0, 0, 0, 0, 0, 0, 0, 0, 0, 0, 0, 0, 0, 0, 0, 0, 0, 0, 0, 0, 0, 0, 0, 0, 0, 0, 0, 0, 0, 0, 0, 0, 0, 0, 0, 0, 0, 0, 0, 0, 0, 0, 0, 0, 0, 0, 0, 0, 0, 0, 0, 0, 0, 0, 0, 0, 0, 0, 0, 0, 0, 0, 0, 0, 0, 0, 0, 0, 0, 0, 0, 0, 0, 0, 0, 0, 0, 0, 0, 0, 0, 0, 0, 0, 0, 0, 0, 0, 0, 0, 0, 0, 0, 0, 0, 0, 0, 0, 0, 0, 0, 0, 0, 0, 0, 0, 0, 0, 0, 0, 0, 0, 0, 0, 0, 0, 0, 0, 0, 0, 0, 0, 0, 0, 0, 0, 0, 0, 0, 0, 0, 0, 0, 0, 0, 0, 0, 0, 0, 0, 0, 0, 0, 0, 0, 0, 0, 0, 0, 0, 0, 0, 0, 0, 0, 0, 0, 0, 0, 0, 0, 0, 0, 0, 0, 0, 0, 0, 0, 0, 0, 0, 0, 0, 0, 0, 0, 0, 0, 0, 0, 0, 0, 0, 0, 0, 0, 0, 0, 0, 0, 0, 0, 0, 0, 0, 0, 0, 0, 0, 0, 0, 0, 0, 0, 0, 0, 0, 0, 0, 0, 0, 0, 0, 0, 0, 0, 0, 0, 0, 0, 0, 0, 0, 0, 0, 0, 0, 0, 0, 0, 0, 0, 0, 0, 0, 0, 0, 0, 0, 0, 0, 0, 0, 0, 0, 0, 0, 0, 0, 0, 0, 0, 0, 0, 0, 0, 0, 0, 0, 0, 0, 0, 0, 0, 0, 0, 0, 0, 0, 0, 0, 0, 0, 0, 0, 0, 0, 0, 0, 0, 0, 0, 0, 0, 0, 0, 0, 0, 0, 0, 0, 0, 0, 0, 0, 0, 0, 0, 0, 0, 0, 0, 0, 0, 0, 0, 0, 0, 0, 0, 0, 0, 0, 0, 0, 0, 0, 0, 0, 0, 0, 0, 0, 0, 0, 0, 0, 0, 0, 0, 0, 0, 0, 0, 0, 0, 0, 0, 0, 0, 0, 0, 0, 0, 0, 0, 0, 0, 0, 0, 0, 0, 0, 0, 0, 0, 0, 0, 0, 0, 0, 0, 0, 0, 0, 0, 0, 0, 0, 0, 0, 0, 0, 0, 0, 0, 0, 0, 0, 0, 0, 0, 0, 0, 0, 0, 0, 0, 0, 0, 0, 0, 0, 0, 0, 0, 0, 0, 0, 0, 0, 0, 0, 0, 0, 0, 0, 0, 0, 0, 0, 0, 0, 0, 0, 0, 0, 0, 0, 0, 0, 0, 0, 0, 0, 0, 0, 0, 0, 0, 0, 0, 0, 0, 0, 0, 0, 0, 0, 0, 0, 0, 0, 0, 0, 0, 0, 0, 0, 0, 0, 0, 0, 0, 0, 0, 0, 0, 0, 0, 0, 0, 0, 0, 0, 0, 0, 0, 0, 0, 0, 0, 0, 0, 0, 0, 0, 0, 0, 0, 0, 0, 0, 0, 0, 0, 0, 0, 0, 0, 0, 0, 0, 0, 0, 0, 0, 0, 0, 0, 0, 0, 0, 0, 0, 0, 0, 0, 0, 0, 0, 0, 0, 0, 0, 0, 0, 0, 0, 0, 0, 0, 0, 0, 0, 0, 0, 0, 0, 0, 0, 0, 0, 0, 0, 0, 0, 0, 0, 0, 0, 0, 0, 0, 0, 0, 0, 0, 0, 0, 0, 0, 0, 0, 0, 0, 0, 0, 0, 0, 0, 0, 0, 0, 0, 0, 0, 0, 0, 0, 0, 0, 0, 0, 0, 0, 0, 0, 0, 0, 0, 0, 0, 0, 0, 0, 0, 0, 0, 0, 0, 0, 0, 0, 0, 0, 0, 0, 0, 0, 0, 0, 0, 0, 0, 0, 0, 0, 0, 0, 0, 0, 0, 0, 0, 0, 0, 0, 0, 0, 0, 0, 0, 0, 0, 0, 0, 0, 0, 0, 0, 0, 0, 0, 0, 0, 0, 0, 0, 0, 0, 0, 0, 0, 0, 0, 0, 0, 0, 0, 0, 0, 0, 0, 0, 0, 0, 0, 0, 0, 0, 0, 0, 0, 0, 0, 0, 0, 0, 0, 0, 0, 0, 0, 0, 0, 0, 0, 0, 0, 0, 0, 0, 0, 0, 0, 0, 0, 0, 0, 0, 0, 0, 0, 0, 0, 0, 0, 0, 0, 0, 0, 0, 0, 0, 0, 0, 0, 0, 0, 0, 0, 0, 0, 0, 0, 0, 0, 0, 0, 0, 0, 0, 0, 0, 0, 0, 0, 0, 0, 0, 0, 0, 0, 0, 0, 0, 0, 0, 0, 0, 0, 0, 0, 0, 0, 0, 0, 0, 0, 0, 0, 0, 0, 0, 0, 0, 0, 0, 0, 0, 0, 0, 0, 0, 0, 0, 0, 0, 0, 0, 0, 0, 0, 0, 0, 0, 0, 0, 0, 0, 0, 0, 0, 0, 0, 0, 0, 0, 0, 0, 0, 0, 0, 0, 0, 0, 0, 0, 0, 0, 0, 0, 0, 0, 0, 0, 0, 0, 0, 0, 0, 0, 0, 0, 0, 0, 0, 0, 0, 0, 0, 0, 0, 0, 0, 0, 0, 0, 0, 0, 0, 0, 0, 0, 0, 0, 0, 0, 0, 0, 0, 0, 0, 0, 0, 0, 0, 0, 0, 0, 0, 0, 0, 0, 0, 0, 0, 0, 0, 0, 0, 0, 0, 0, 0, 0, 0, 0, 0, 0, 0, 0, 0, 0, 0, 0, 0, 0, 0, 0, 0, 0, 0, 0, 0, 0, 0, 0, 0, 0, 0, 0, 0, 0, 0, 0, 0, 0, 0, 0, 0, 0, 0, 0, 0, 0, 0, 0, 0, 0, 0, 0, 0, 0, 0, 0, 0, 0, 0, 0, 0, 0, 0, 0, 0, 0, 0, 0, 0, 0, 0, 0, 0, 0, 0, 0, 0, 0, 0, 0, 0, 0, 0, 0, 0, 0, 0, 0, 0, 0, 0, 0, 0, 0, 0, 0, 0, 0, 0, 0, 0, 0, 0, 0, 0, 0, 0, 0, 0, 0, 0, 0, 0, 0, 0, 0, 0, 0, 0, 0, 0, 0, 0, 0, 0, 0, 0, 0, 0, 0, 0, 0, 0, 0, 0, 0, 0, 0, 0, 0, 0, 0, 0, 0, 0, 0, 0, 0, 0, 0, 0, 0, 0, 0, 0, 0, 0, 0, 0, 0, 0, 0, 0, 0, 0, 0, 0, 0, 0, 0, 0, 0, 0, 0, 0, 0, 0, 0, 0, 0, 0, 0, 0, 0, 0, 0, 0, 0, 0, 0, 0, 0, 0, 0, 0, 0, 0, 0, 0, 0, 0, 0, 0, 0, 0, 0, 0, 0, 0, 0, 0, 0, 0, 0, 0, 0, 0, 0, 0, 0, 0, 0, 0, 0, 0, 0, 0, 0, 0, 0, 0, 0, 0, 0, 0, 0, 0, 0, 0, 0, 0, 0, 0, 0, 0, 0, 0, 0, 0, 0, 0, 0, 0, 0, 0, 0, 0, 0, 0, 0, 0, 0, 0, 0, 0, 0, 0, 0, 0, 0, 0, 0, 0, 0, 0, 0, 0, 0, 0, 0, 0, 0, 0, 0, 0, 0, 0, 0, 0, 0, 0, 0, 0, 0, 0, 0, 0, 0, 0, 0, 0, 0, 0, 0, 0, 0, 0, 0, 0, 0, 0, 0, 0, 0, 0, 0, 0, 0, 0, 0, 0, 0, 0, 0, 0, 0, 0, 0, 0, 0, 0, 0, 0, 0, 0, 0, 0, 0, 0, 0, 0, 0, 0, 0, 0, 0, 0, 0, 0, 0, 0, 0, 0, 0, 0, 0, 0, 0, 0, 0, 0, 0, 0, 0, 0, 0, 0, 0, 0, 0, 0, 0, 0, 0, 0, 0, 0, 0, 0, 0, 0, 0, 0, 0, 0, 0, 0, 0, 0, 0, 0, 0, 0, 0, 0, 0, 0, 0, 0, 0, 0, 0, 0, 0, 0, 0, 0, 0, 0, 0, 0, 0, 0, 0, 0, 0, 0, 0, 0, 0, 0, 0, 0, 0, 0, 0, 0, 0, 0, 0, 0, 0, 0, 0, 0, 0, 0, 0, 0, 0, 0, 0, 0, 0, 0, 0, 0, 0, 0, 0, 0, 0, 0, 0, 0, 0, 0, 0, 0, 0, 0, 0, 0, 0, 0, 0, 0, 0, 0, 0, 0, 0, 0, 0, 0, 0, 0, 0, 0, 0, 0, 0, 0, 0, 0, 0, 0, 0, 0, 0, 0, 0, 0, 0, 0, 0, 0, 0, 0, 0, 0, 0, 0, 0, 0, 0, 0, 0, 0, 0, 0, 0, 0, 0, 0, 0, 0, 0, 0, 0, 0, 0, 0, 0, 0, 0, 0, 0, 0, 0, 0, 0, 0, 0, 0, 0, 0, 0, 0, 0, 0, 0, 0, 0, 0, 0, 0, 0, 0, 0, 0, 0, 0, 0, 0, 0, 0, 0, 0, 0, 0, 0, 0, 0, 0, 0, 0, 0, 0, 0, 0, 0, 0, 0, 0, 0, 0, 0, 0, 0]\n"
          ]
        }
      ]
    },
    {
      "cell_type": "code",
      "source": [
        "X = np.concatenate([df_center, df_right, df_left])\n",
        "Y = np.concatenate([label_center, label_right, label_left])"
      ],
      "metadata": {
        "id": "9K4jNJU3_1xc"
      },
      "execution_count": 10,
      "outputs": []
    },
    {
      "cell_type": "code",
      "source": [
        "X.shape, Y.shape"
      ],
      "metadata": {
        "colab": {
          "base_uri": "https://localhost:8080/"
        },
        "id": "rwR0ykaQAGUL",
        "outputId": "9f3f4b86-9cb8-4289-a277-ac2e67dc348e"
      },
      "execution_count": 12,
      "outputs": [
        {
          "output_type": "execute_result",
          "data": {
            "text/plain": [
              "((6000, 160), (6000,))"
            ]
          },
          "metadata": {},
          "execution_count": 12
        }
      ]
    },
    {
      "cell_type": "markdown",
      "source": [
        "<h2>Data Split</h2>"
      ],
      "metadata": {
        "id": "n6wNYiqHV_EN"
      }
    },
    {
      "cell_type": "code",
      "source": [
        "from sklearn.model_selection import train_test_split\n",
        "\n",
        "X_train, X_test, y_train, y_test = train_test_split(X, Y, test_size=0.2, random_state=42)"
      ],
      "metadata": {
        "id": "qKSmURBb5DBb"
      },
      "execution_count": 13,
      "outputs": []
    },
    {
      "cell_type": "code",
      "source": [
        "X_train.shape, y_train.shape"
      ],
      "metadata": {
        "colab": {
          "base_uri": "https://localhost:8080/"
        },
        "id": "67YvHEQ939d6",
        "outputId": "25bb3585-aa2a-4492-d0f7-082cb43afbc5"
      },
      "execution_count": 15,
      "outputs": [
        {
          "output_type": "execute_result",
          "data": {
            "text/plain": [
              "((4800, 160), (4800,))"
            ]
          },
          "metadata": {},
          "execution_count": 15
        }
      ]
    },
    {
      "cell_type": "code",
      "source": [
        "plt.plot(X_train[5],'.r')\n",
        "plt.legend()\n",
        "plt.show()"
      ],
      "metadata": {
        "colab": {
          "base_uri": "https://localhost:8080/",
          "height": 447
        },
        "id": "o9yRODpneYHw",
        "outputId": "21b0cb80-d29b-421e-ed6e-72d6648bed83"
      },
      "execution_count": 62,
      "outputs": [
        {
          "output_type": "stream",
          "name": "stderr",
          "text": [
            "WARNING:matplotlib.legend:No artists with labels found to put in legend.  Note that artists whose label start with an underscore are ignored when legend() is called with no argument.\n"
          ]
        },
        {
          "output_type": "display_data",
          "data": {
            "text/plain": [
              "<Figure size 640x480 with 1 Axes>"
            ],
            "image/png": "[encoded data removed]"
          },
          "metadata": {}
        }
      ]
    },
    {
      "cell_type": "code",
      "source": [
        "from sklearn.preprocessing import StandardScaler\n",
        "\n",
        "scaler = StandardScaler()\n",
        "X_train_scaled = scaler.fit_transform(X_train)\n",
        "X_test_scaled = scaler.transform(X_test)"
      ],
      "metadata": {
        "id": "WEUgryxA5GAk"
      },
      "execution_count": 16,
      "outputs": []
    },
    {
      "cell_type": "code",
      "source": [
        "def build_model(input_shape):\n",
        "    model = models.Sequential()\n",
        "    model.add(layers.Dense(64, activation='relu', input_shape=input_shape))\n",
        "    model.add(layers.Dense(32, activation='relu'))\n",
        "    model.add(layers.Dense(3, activation='softmax'))  # 3 kelas: tengah, kanan, kiri\n",
        "\n",
        "    model.compile(optimizer='adam',\n",
        "                  loss='sparse_categorical_crossentropy',\n",
        "                  metrics=['accuracy'])\n",
        "    return model"
      ],
      "metadata": {
        "id": "MYDDwzGqA31O"
      },
      "execution_count": 18,
      "outputs": []
    },
    {
      "cell_type": "code",
      "source": [
        "# Fungsi untuk melatih model\n",
        "def train_model(model, X_train, y_train, epochs=10):\n",
        "    history = model.fit(X_train, y_train, epochs=epochs, validation_split=0.2)\n",
        "    return history"
      ],
      "metadata": {
        "id": "0Np1IDJ4A-0q"
      },
      "execution_count": 53,
      "outputs": []
    },
    {
      "cell_type": "code",
      "source": [
        "# Membangun model\n",
        "input_shape = (X_train.shape[1],)\n",
        "model = build_model(input_shape)\n",
        "\n",
        "# Melatih model\n",
        "hist = train_model(model, X_train_scaled, y_train, epochs=20)"
      ],
      "metadata": {
        "colab": {
          "base_uri": "https://localhost:8080/"
        },
        "id": "0QJzaUyCBULn",
        "outputId": "8d2eb386-7dbf-4fb0-8396-cff0be982691"
      },
      "execution_count": 54,
      "outputs": [
        {
          "output_type": "stream",
          "name": "stdout",
          "text": [
            "Epoch 1/20\n",
            "120/120 [==============================] - 1s 3ms/step - loss: 0.0779 - accuracy: 0.9771 - val_loss: 0.0134 - val_accuracy: 0.9990\n",
            "Epoch 2/20\n",
            "120/120 [==============================] - 0s 2ms/step - loss: 0.0011 - accuracy: 1.0000 - val_loss: 0.0124 - val_accuracy: 0.9990\n",
            "Epoch 3/20\n",
            "120/120 [==============================] - 0s 1ms/step - loss: 3.6478e-04 - accuracy: 1.0000 - val_loss: 0.0127 - val_accuracy: 0.9990\n",
            "Epoch 4/20\n",
            "120/120 [==============================] - 0s 2ms/step - loss: 1.9333e-04 - accuracy: 1.0000 - val_loss: 0.0130 - val_accuracy: 0.9990\n",
            "Epoch 5/20\n",
            "120/120 [==============================] - 0s 2ms/step - loss: 1.2156e-04 - accuracy: 1.0000 - val_loss: 0.0132 - val_accuracy: 0.9990\n",
            "Epoch 6/20\n",
            "120/120 [==============================] - 0s 2ms/step - loss: 8.3750e-05 - accuracy: 1.0000 - val_loss: 0.0133 - val_accuracy: 0.9990\n",
            "Epoch 7/20\n",
            "120/120 [==============================] - 0s 2ms/step - loss: 6.1366e-05 - accuracy: 1.0000 - val_loss: 0.0134 - val_accuracy: 0.9990\n",
            "Epoch 8/20\n",
            "120/120 [==============================] - 0s 2ms/step - loss: 4.6892e-05 - accuracy: 1.0000 - val_loss: 0.0135 - val_accuracy: 0.9990\n",
            "Epoch 9/20\n",
            "120/120 [==============================] - 0s 2ms/step - loss: 3.6917e-05 - accuracy: 1.0000 - val_loss: 0.0136 - val_accuracy: 0.9990\n",
            "Epoch 10/20\n",
            "120/120 [==============================] - 0s 2ms/step - loss: 2.9791e-05 - accuracy: 1.0000 - val_loss: 0.0137 - val_accuracy: 0.9990\n",
            "Epoch 11/20\n",
            "120/120 [==============================] - 0s 2ms/step - loss: 2.4536e-05 - accuracy: 1.0000 - val_loss: 0.0138 - val_accuracy: 0.9990\n",
            "Epoch 12/20\n",
            "120/120 [==============================] - 0s 2ms/step - loss: 2.0489e-05 - accuracy: 1.0000 - val_loss: 0.0138 - val_accuracy: 0.9990\n",
            "Epoch 13/20\n",
            "120/120 [==============================] - 0s 2ms/step - loss: 1.7313e-05 - accuracy: 1.0000 - val_loss: 0.0139 - val_accuracy: 0.9990\n",
            "Epoch 14/20\n",
            "120/120 [==============================] - 0s 2ms/step - loss: 1.4783e-05 - accuracy: 1.0000 - val_loss: 0.0139 - val_accuracy: 0.9990\n",
            "Epoch 15/20\n",
            "120/120 [==============================] - 0s 2ms/step - loss: 1.2740e-05 - accuracy: 1.0000 - val_loss: 0.0140 - val_accuracy: 0.9990\n",
            "Epoch 16/20\n",
            "120/120 [==============================] - 0s 1ms/step - loss: 1.1037e-05 - accuracy: 1.0000 - val_loss: 0.0140 - val_accuracy: 0.9990\n",
            "Epoch 17/20\n",
            "120/120 [==============================] - 0s 2ms/step - loss: 9.6351e-06 - accuracy: 1.0000 - val_loss: 0.0140 - val_accuracy: 0.9990\n",
            "Epoch 18/20\n",
            "120/120 [==============================] - 0s 2ms/step - loss: 8.4630e-06 - accuracy: 1.0000 - val_loss: 0.0141 - val_accuracy: 0.9990\n",
            "Epoch 19/20\n",
            "120/120 [==============================] - 0s 2ms/step - loss: 7.4819e-06 - accuracy: 1.0000 - val_loss: 0.0141 - val_accuracy: 0.9990\n",
            "Epoch 20/20\n",
            "120/120 [==============================] - 0s 2ms/step - loss: 6.6386e-06 - accuracy: 1.0000 - val_loss: 0.0142 - val_accuracy: 0.9990\n"
          ]
        }
      ]
    },
    {
      "cell_type": "code",
      "source": [
        "test_loss, test_accuracy = model.evaluate(X_test_scaled, y_test)\n",
        "print(f\"Test Accuracy: {test_accuracy * 100:.2f}%\")"
      ],
      "metadata": {
        "colab": {
          "base_uri": "https://localhost:8080/"
        },
        "id": "MeLOuDitBX-D",
        "outputId": "4da5c473-d162-43b9-8e53-c7971b2534d4"
      },
      "execution_count": 27,
      "outputs": [
        {
          "output_type": "stream",
          "name": "stdout",
          "text": [
            "38/38 [==============================] - 0s 971us/step - loss: 1.0749e-05 - accuracy: 1.0000\n",
            "Test Accuracy: 100.00%\n"
          ]
        }
      ]
    },
    {
      "cell_type": "code",
      "source": [
        "data_test = np.array([5.945714701724766,0,165.57183617657964,165.42583142668633,5.428749061569602,5.414398363332134,108.02071849821927,107.00280918718755,105.0017121783218,103.01825417312743,102.0508810541506,101.09991403423746,100.16537356775912,99.24726703333221,99.34461776889658,99.45933279502847,99.59191574141809,99.74287681156372,99.91273250853975,100.10200534874643,100.31122356516985,100.54092080186405,101.79999018119089,103.08482872883086,104.39666151711577,105.73674207437796,107.10635229882963,5.055813352323214,0,5.01854064183178,0,0,0,0,0,0,0,4.860095636738915,0,4.817967539367538,4.796499408727395,4.774754955371732,0,111.90398383956659,116.10877104428444,118.14934655574123,117.97622294523524,117.82148124148603,4.6143374695147,0,0,4.5408582538806685,4.515686630623995,0,139.1425034829694,139.3386609492723,137.0676010397012,133.50625951503784,131.15221470767906,130.0433588484409,130.22025498199778,130.41119907107804,129.2848838460525,128.13903904003968,128.33469971622668,128.54050889387287,128.7556887286246,128.97944786829774,132.08005141920157,0,3.9944822826865973,0,0,3.89283008838383,3.857838560808834,3.822270492843074,78.34873183552274,79.45682904532462,83.89343427196086,96.83602752265624,123.68076291846891,0,3.7139707932598776,37.16812284932135,3.7880551539715146,3.824182244219703,0,3.894680378195174,0,3.962930445739182,3.9962457921308574,4.029038289837462,4.061320151353296,4.093103211771528,4.124398943250895,0,0,4.215471727213927,4.2449260761503815,0,0,4.330717398480374,4.3584882256786885,0,4.412843412128965,0,0,0,4.517037916052128,4.542191017495577,115.0602180595856,114.02319244266748,113.02215775955534,110.91420636254648,109.99263031846746,107.98071772674402,107.13480934520682,106.32127325169874,106.63932622336513,106.97376560145031,107.3250537258475,107.69362893808207,109.15201527842767,109.55027896306346,109.96731364122934,111.45820586241625,114.0077750527922,118.64741100048292,122.23109026937385,123.73928850287061,5.000585878721436,5.019546136518136,0,5.056795246213487,5.075091976714749,0,5.111048800188025,5.128716234552549,0,5.163446874326768,5.180516928936709,0,5.21408305483923,0,5.246905076711544,5.263044738296187,0,5.294796155206137,0,5.325862675838405,0,5.356266224145301,110.00041365836854,109.00422654653715,106.0196889675595,105.04892765473305,104.09018390601803,103.14262859070641,102.20545954940532,102.28467745969769])\n",
        "scaled_data_test = scaler.transform(data_test.reshape(1, -1))\n",
        "scaled_data_test"
      ],
      "metadata": {
        "colab": {
          "base_uri": "https://localhost:8080/"
        },
        "id": "-Trjvq6JC1QG",
        "outputId": "3ea26644-0b42-428f-8c73-681a1c255c13"
      },
      "execution_count": 52,
      "outputs": [
        {
          "output_type": "execute_result",
          "data": {
            "text/plain": [
              "array([[-7.69711821e-01, -6.94877296e-01,  1.24361660e+00,\n",
              "         1.20308592e+00, -1.14211173e+00, -1.20261317e+00,\n",
              "         1.44437898e-01,  4.66266940e-01,  1.87340601e-02,\n",
              "        -5.24429445e-01, -6.01418228e-01, -6.37617139e-01,\n",
              "        -9.15100467e-01, -5.18535162e-01, -4.21354420e-01,\n",
              "        -3.56596988e-01, -2.65049140e-01, -1.18863406e-01,\n",
              "        -1.01465904e-01, -1.21534457e-01, -1.48090303e-01,\n",
              "        -1.88848779e-01,  1.15239810e-01,  7.08963461e-01,\n",
              "         6.96406401e-01,  6.78039783e-01,  3.08698398e-01,\n",
              "        -1.22126974e+00, -6.94836489e-01, -6.94876993e-01,\n",
              "        -6.94877296e-01, -6.94877184e-01, -6.94875269e-01,\n",
              "        -6.94868702e-01,  0.00000000e+00,  0.00000000e+00,\n",
              "         0.00000000e+00,  4.11226608e-13,  0.00000000e+00,\n",
              "         4.71622741e-13,  3.55271368e-13,  2.06057393e-13,\n",
              "         0.00000000e+00,  1.42696838e+00,  1.42716716e+00,\n",
              "         1.41964286e+00,  1.41911136e+00,  1.48733939e+00,\n",
              "        -1.32631918e-01, -1.31011344e-01, -1.38226499e+00,\n",
              "        -1.38165869e+00, -1.37468662e+00, -1.38402821e+00,\n",
              "         6.96465640e-01,  6.37272006e-01,  5.77086941e-01,\n",
              "         5.06092914e-01,  4.67162219e-01,  4.38911860e-01,\n",
              "         4.02280401e-01,  3.59585592e-01,  2.32089010e-01,\n",
              "         1.48662861e-01,  6.94849091e-01,  1.28209840e+00,\n",
              "         1.30671886e+00,  1.31362319e+00,  1.92386935e+00,\n",
              "         0.00000000e+00, -4.17887946e-13,  0.00000000e+00,\n",
              "         0.00000000e+00, -3.19744231e-14, -5.01820807e-14,\n",
              "        -4.10320848e-01,  1.56712853e+00,  1.46638861e+00,\n",
              "         1.47627699e+00,  1.40788410e+00,  1.43312371e+00,\n",
              "        -9.06151010e-01, -6.55316338e-01,  2.34784959e+00,\n",
              "        -5.87591924e-01, -4.96282356e-01, -3.68220051e-01,\n",
              "        -2.55854339e-01, -6.46795612e-01, -7.14368988e-01,\n",
              "        -7.13746427e-01, -7.13746427e-01, -7.13745456e-01,\n",
              "        -7.13741061e-01, -3.53774569e-02,  0.00000000e+00,\n",
              "         0.00000000e+00,  3.31290551e-13,  4.53859172e-13,\n",
              "         0.00000000e+00,  0.00000000e+00, -2.04166684e-02,\n",
              "        -2.04166684e-02, -2.49884740e-02, -3.53764525e-02,\n",
              "        -7.08245692e-02, -7.08573222e-02, -5.78096605e-02,\n",
              "        -5.95933304e-02, -1.14392598e-01,  5.39326332e+00,\n",
              "         3.98565158e+00,  3.27947701e+00,  2.65591674e+00,\n",
              "         2.53255300e+00,  2.28901302e+00,  2.37225564e+00,\n",
              "         2.45493662e+00,  1.25741902e+00,  1.20805678e+00,\n",
              "         2.47816079e+00,  1.98638669e+00,  1.96823498e+00,\n",
              "         1.68281806e+00,  1.25930029e+00,  9.75563932e-01,\n",
              "         1.12920856e+00,  1.38030721e+00,  1.48144164e+00,\n",
              "         1.45926915e+00, -7.11888430e-01, -2.32380377e-01,\n",
              "        -2.32409931e-01, -6.62879936e-02, -5.59892511e-02,\n",
              "        -2.46521625e-01, -2.77833700e-01, -2.90653383e-01,\n",
              "        -2.87038881e-01, -3.11938913e-01, -3.04022742e-01,\n",
              "        -3.09241651e-01, -3.68897057e-01, -3.65984639e-01,\n",
              "        -3.96110819e-01, -5.00645482e-01, -5.43317410e-01,\n",
              "        -5.42028404e-01, -6.02694787e-01, -6.08800785e-01,\n",
              "        -6.11056751e-01, -6.51392814e-01,  7.14624676e-01,\n",
              "         2.79833949e-01,  1.32924556e-01,  3.60490768e-02,\n",
              "        -1.26858166e-01, -2.65716025e-01, -4.36890503e-01,\n",
              "        -3.14420861e-01]])"
            ]
          },
          "metadata": {},
          "execution_count": 52
        }
      ]
    },
    {
      "cell_type": "code",
      "source": [
        "prediction = model.predict(scaled_data_test)\n",
        "prediction"
      ],
      "metadata": {
        "colab": {
          "base_uri": "https://localhost:8080/"
        },
        "id": "96ZmKN6zDk90",
        "outputId": "5686874c-dcf4-45ae-aedb-e386566e71cf"
      },
      "execution_count": 50,
      "outputs": [
        {
          "output_type": "stream",
          "name": "stdout",
          "text": [
            "1/1 [==============================] - 0s 15ms/step\n"
          ]
        },
        {
          "output_type": "execute_result",
          "data": {
            "text/plain": [
              "array([[5.5027988e-07, 2.9215221e-07, 9.9999917e-01]], dtype=float32)"
            ]
          },
          "metadata": {},
          "execution_count": 50
        }
      ]
    },
    {
      "cell_type": "code",
      "source": [
        "model.save(\"ydlidargs2.h5\")"
      ],
      "metadata": {
        "colab": {
          "base_uri": "https://localhost:8080/"
        },
        "id": "7QRt20zWQVgb",
        "outputId": "fd59f732-13f0-4fa3-b429-ec08977c9a89"
      },
      "execution_count": 63,
      "outputs": [
        {
          "output_type": "stream",
          "name": "stderr",
          "text": [
            "/usr/local/lib/python3.10/dist-packages/keras/src/engine/training.py:3103: UserWarning: You are saving your model as an HDF5 file via `model.save()`. This file format is considered legacy. We recommend using instead the native Keras format, e.g. `model.save('my_model.keras')`.\n",
            "  saving_api.save_model(\n"
          ]
        }
      ]
    },
    {
      "cell_type": "code",
      "source": [
        "! pip install \"everywhereml>=0.2.32\""
      ],
      "metadata": {
        "colab": {
          "base_uri": "https://localhost:8080/"
        },
        "id": "dy11HR_4RQpS",
        "outputId": "0a8e8317-deb7-476d-d90c-1a24681e3aef"
      },
      "execution_count": 66,
      "outputs": [
        {
          "output_type": "stream",
          "name": "stdout",
          "text": [
            "Collecting everywhereml>=0.2.32\n",
            "  Downloading everywhereml-0.2.37.tar.gz (47 kB)\n",
            "\u001b[2K     \u001b[90m━━━━━━━━━━━━━━━━━━━━━━━━━━━━━━━━━━━━━━━━\u001b[0m \u001b[32m47.6/47.6 kB\u001b[0m \u001b[31m874.3 kB/s\u001b[0m eta \u001b[36m0:00:00\u001b[0m\n",
            "\u001b[?25h  Preparing metadata (setup.py) ... \u001b[?25l\u001b[?25hdone\n",
            "Requirement already satisfied: numpy in /usr/local/lib/python3.10/dist-packages (from everywhereml>=0.2.32) (1.25.2)\n",
            "Requirement already satisfied: pandas in /usr/local/lib/python3.10/dist-packages (from everywhereml>=0.2.32) (1.5.3)\n",
            "Requirement already satisfied: seaborn in /usr/local/lib/python3.10/dist-packages (from everywhereml>=0.2.32) (0.13.1)\n",
            "Requirement already satisfied: scikit-learn in /usr/local/lib/python3.10/dist-packages (from everywhereml>=0.2.32) (1.2.2)\n",
            "Requirement already satisfied: scikit-image in /usr/local/lib/python3.10/dist-packages (from everywhereml>=0.2.32) (0.19.3)\n",
            "Requirement already satisfied: Jinja2 in /usr/local/lib/python3.10/dist-packages (from everywhereml>=0.2.32) (3.1.3)\n",
            "Collecting cached-property (from everywhereml>=0.2.32)\n",
            "  Downloading cached_property-1.5.2-py2.py3-none-any.whl (7.6 kB)\n",
            "Collecting umap-learn (from everywhereml>=0.2.32)\n",
            "  Downloading umap-learn-0.5.5.tar.gz (90 kB)\n",
            "\u001b[2K     \u001b[90m━━━━━━━━━━━━━━━━━━━━━━━━━━━━━━━━━━━━━━━━\u001b[0m \u001b[32m90.9/90.9 kB\u001b[0m \u001b[31m3.5 MB/s\u001b[0m eta \u001b[36m0:00:00\u001b[0m\n",
            "\u001b[?25h  Preparing metadata (setup.py) ... \u001b[?25l\u001b[?25hdone\n",
            "Requirement already satisfied: python-slugify in /usr/local/lib/python3.10/dist-packages (from everywhereml>=0.2.32) (8.0.4)\n",
            "Collecting hexdump (from everywhereml>=0.2.32)\n",
            "  Downloading hexdump-3.3.zip (12 kB)\n",
            "  Preparing metadata (setup.py) ... \u001b[?25l\u001b[?25hdone\n",
            "Collecting jinja2_workarounds (from everywhereml>=0.2.32)\n",
            "  Downloading jinja2_workarounds-0.1.0-py3-none-any.whl (2.8 kB)\n",
            "Requirement already satisfied: requests in /usr/local/lib/python3.10/dist-packages (from everywhereml>=0.2.32) (2.31.0)\n",
            "Collecting pySerial (from everywhereml>=0.2.32)\n",
            "  Downloading pyserial-3.5-py2.py3-none-any.whl (90 kB)\n",
            "\u001b[2K     \u001b[90m━━━━━━━━━━━━━━━━━━━━━━━━━━━━━━━━━━━━━━━━\u001b[0m \u001b[32m90.6/90.6 kB\u001b[0m \u001b[31m7.3 MB/s\u001b[0m eta \u001b[36m0:00:00\u001b[0m\n",
            "\u001b[?25hRequirement already satisfied: tqdm in /usr/local/lib/python3.10/dist-packages (from everywhereml>=0.2.32) (4.66.2)\n",
            "Requirement already satisfied: MarkupSafe>=2.0 in /usr/local/lib/python3.10/dist-packages (from Jinja2->everywhereml>=0.2.32) (2.1.5)\n",
            "Requirement already satisfied: python-dateutil>=2.8.1 in /usr/local/lib/python3.10/dist-packages (from pandas->everywhereml>=0.2.32) (2.8.2)\n",
            "Requirement already satisfied: pytz>=2020.1 in /usr/local/lib/python3.10/dist-packages (from pandas->everywhereml>=0.2.32) (2023.4)\n",
            "Requirement already satisfied: text-unidecode>=1.3 in /usr/local/lib/python3.10/dist-packages (from python-slugify->everywhereml>=0.2.32) (1.3)\n",
            "Requirement already satisfied: charset-normalizer<4,>=2 in /usr/local/lib/python3.10/dist-packages (from requests->everywhereml>=0.2.32) (3.3.2)\n",
            "Requirement already satisfied: idna<4,>=2.5 in /usr/local/lib/python3.10/dist-packages (from requests->everywhereml>=0.2.32) (3.6)\n",
            "Requirement already satisfied: urllib3<3,>=1.21.1 in /usr/local/lib/python3.10/dist-packages (from requests->everywhereml>=0.2.32) (2.0.7)\n",
            "Requirement already satisfied: certifi>=2017.4.17 in /usr/local/lib/python3.10/dist-packages (from requests->everywhereml>=0.2.32) (2024.2.2)\n",
            "Requirement already satisfied: scipy>=1.4.1 in /usr/local/lib/python3.10/dist-packages (from scikit-image->everywhereml>=0.2.32) (1.11.4)\n",
            "Requirement already satisfied: networkx>=2.2 in /usr/local/lib/python3.10/dist-packages (from scikit-image->everywhereml>=0.2.32) (3.2.1)\n",
            "Requirement already satisfied: pillow!=7.1.0,!=7.1.1,!=8.3.0,>=6.1.0 in /usr/local/lib/python3.10/dist-packages (from scikit-image->everywhereml>=0.2.32) (9.4.0)\n",
            "Requirement already satisfied: imageio>=2.4.1 in /usr/local/lib/python3.10/dist-packages (from scikit-image->everywhereml>=0.2.32) (2.31.6)\n",
            "Requirement already satisfied: tifffile>=2019.7.26 in /usr/local/lib/python3.10/dist-packages (from scikit-image->everywhereml>=0.2.32) (2024.2.12)\n",
            "Requirement already satisfied: PyWavelets>=1.1.1 in /usr/local/lib/python3.10/dist-packages (from scikit-image->everywhereml>=0.2.32) (1.5.0)\n",
            "Requirement already satisfied: packaging>=20.0 in /usr/local/lib/python3.10/dist-packages (from scikit-image->everywhereml>=0.2.32) (23.2)\n",
            "Requirement already satisfied: joblib>=1.1.1 in /usr/local/lib/python3.10/dist-packages (from scikit-learn->everywhereml>=0.2.32) (1.3.2)\n",
            "Requirement already satisfied: threadpoolctl>=2.0.0 in /usr/local/lib/python3.10/dist-packages (from scikit-learn->everywhereml>=0.2.32) (3.3.0)\n",
            "Requirement already satisfied: matplotlib!=3.6.1,>=3.4 in /usr/local/lib/python3.10/dist-packages (from seaborn->everywhereml>=0.2.32) (3.7.1)\n",
            "Requirement already satisfied: numba>=0.51.2 in /usr/local/lib/python3.10/dist-packages (from umap-learn->everywhereml>=0.2.32) (0.58.1)\n",
            "Collecting pynndescent>=0.5 (from umap-learn->everywhereml>=0.2.32)\n",
            "  Downloading pynndescent-0.5.11-py3-none-any.whl (55 kB)\n",
            "\u001b[2K     \u001b[90m━━━━━━━━━━━━━━━━━━━━━━━━━━━━━━━━━━━━━━━━\u001b[0m \u001b[32m55.8/55.8 kB\u001b[0m \u001b[31m7.1 MB/s\u001b[0m eta \u001b[36m0:00:00\u001b[0m\n",
            "\u001b[?25hRequirement already satisfied: contourpy>=1.0.1 in /usr/local/lib/python3.10/dist-packages (from matplotlib!=3.6.1,>=3.4->seaborn->everywhereml>=0.2.32) (1.2.0)\n",
            "Requirement already satisfied: cycler>=0.10 in /usr/local/lib/python3.10/dist-packages (from matplotlib!=3.6.1,>=3.4->seaborn->everywhereml>=0.2.32) (0.12.1)\n",
            "Requirement already satisfied: fonttools>=4.22.0 in /usr/local/lib/python3.10/dist-packages (from matplotlib!=3.6.1,>=3.4->seaborn->everywhereml>=0.2.32) (4.49.0)\n",
            "Requirement already satisfied: kiwisolver>=1.0.1 in /usr/local/lib/python3.10/dist-packages (from matplotlib!=3.6.1,>=3.4->seaborn->everywhereml>=0.2.32) (1.4.5)\n",
            "Requirement already satisfied: pyparsing>=2.3.1 in /usr/local/lib/python3.10/dist-packages (from matplotlib!=3.6.1,>=3.4->seaborn->everywhereml>=0.2.32) (3.1.2)\n",
            "Requirement already satisfied: llvmlite<0.42,>=0.41.0dev0 in /usr/local/lib/python3.10/dist-packages (from numba>=0.51.2->umap-learn->everywhereml>=0.2.32) (0.41.1)\n",
            "Requirement already satisfied: six>=1.5 in /usr/local/lib/python3.10/dist-packages (from python-dateutil>=2.8.1->pandas->everywhereml>=0.2.32) (1.16.0)\n",
            "Building wheels for collected packages: everywhereml, hexdump, umap-learn\n",
            "  Building wheel for everywhereml (setup.py) ... \u001b[?25l\u001b[?25hdone\n",
            "  Created wheel for everywhereml: filename=everywhereml-0.2.37-py3-none-any.whl size=81193 sha256=38d253e0b67cf6ecb5bace0712c1a60059208565d16fb292d97e262e5514f2fe\n",
            "  Stored in directory: /root/.cache/pip/wheels/f0/08/8c/4848a3a49c6b89689c1366cca928db3058dd1f414b03055f15\n",
            "  Building wheel for hexdump (setup.py) ... \u001b[?25l\u001b[?25hdone\n",
            "  Created wheel for hexdump: filename=hexdump-3.3-py3-none-any.whl size=8894 sha256=5d58ec66c26aac385e38920dbd358adcda4258cf17bf264b3b1e507c43347963\n",
            "  Stored in directory: /root/.cache/pip/wheels/26/28/f7/f47d7ecd9ae44c4457e72c8bb617ef18ab332ee2b2a1047e87\n",
            "  Building wheel for umap-learn (setup.py) ... \u001b[?25l\u001b[?25hdone\n",
            "  Created wheel for umap-learn: filename=umap_learn-0.5.5-py3-none-any.whl size=86832 sha256=635f9a5f97287612d60d52ef4be2e980d261a880b7f3fa2a90a0518b8db365e4\n",
            "  Stored in directory: /root/.cache/pip/wheels/3a/70/07/428d2b58660a1a3b431db59b806a10da736612ebbc66c1bcc5\n",
            "Successfully built everywhereml hexdump umap-learn\n",
            "Installing collected packages: pySerial, hexdump, cached-property, jinja2_workarounds, pynndescent, umap-learn, everywhereml\n",
            "Successfully installed cached-property-1.5.2 everywhereml-0.2.37 hexdump-3.3 jinja2_workarounds-0.1.0 pySerial-3.5 pynndescent-0.5.11 umap-learn-0.5.5\n"
          ]
        }
      ]
    },
    {
      "cell_type": "code",
      "source": [
        "# Convert Keras model to a tflite model\n",
        "converter = tf.lite.TFLiteConverter.from_keras_model(model)\n",
        "converter.optimizations = [tf.lite.Optimize.OPTIMIZE_FOR_SIZE]\n",
        "tflite_model = converter.convert()\n",
        "\n",
        "open(\"ydlidargs2\" + '.tflite', 'wb').write(tflite_model)"
      ],
      "metadata": {
        "colab": {
          "base_uri": "https://localhost:8080/"
        },
        "id": "41Y0UdvmRF3Y",
        "outputId": "305cb468-c08e-4704-c058-3c6583a60764"
      },
      "execution_count": 70,
      "outputs": [
        {
          "output_type": "stream",
          "name": "stderr",
          "text": [
            "WARNING:absl:Optimization option OPTIMIZE_FOR_SIZE is deprecated, please use optimizations=[Optimize.DEFAULT] instead.\n",
            "WARNING:absl:Optimization option OPTIMIZE_FOR_SIZE is deprecated, please use optimizations=[Optimize.DEFAULT] instead.\n",
            "WARNING:absl:Optimization option OPTIMIZE_FOR_SIZE is deprecated, please use optimizations=[Optimize.DEFAULT] instead.\n"
          ]
        },
        {
          "output_type": "execute_result",
          "data": {
            "text/plain": [
              "15344"
            ]
          },
          "metadata": {},
          "execution_count": 70
        }
      ]
    },
    {
      "cell_type": "code",
      "source": [
        "\n",
        "# Function: Convert some hex value into an array for C programming\n",
        "def hex_to_c_array(hex_data, var_name):\n",
        "\n",
        "  c_str = ''\n",
        "\n",
        "  # Create header guard\n",
        "  c_str += '#ifndef ' + var_name.upper() + '_H\\n'\n",
        "  c_str += '#define ' + var_name.upper() + '_H\\n\\n'\n",
        "\n",
        "  # Add array length at top of file\n",
        "  c_str += '\\nunsigned int ' + var_name + '_len = ' + str(len(hex_data)) + ';\\n'\n",
        "\n",
        "  # Declare C variable\n",
        "  c_str += 'unsigned char ' + var_name + '[] = {'\n",
        "  hex_array = []\n",
        "  for i, val in enumerate(hex_data) :\n",
        "\n",
        "    # Construct string from hex\n",
        "    hex_str = format(val, '#04x')\n",
        "\n",
        "    # Add formatting so each line stays within 80 characters\n",
        "    if (i + 1) < len(hex_data):\n",
        "      hex_str += ','\n",
        "    if (i + 1) % 12 == 0:\n",
        "      hex_str += '\\n '\n",
        "    hex_array.append(hex_str)\n",
        "\n",
        "  # Add closing brace\n",
        "  c_str += '\\n ' + format(' '.join(hex_array)) + '\\n};\\n\\n'\n",
        "\n",
        "  # Close out header guard\n",
        "  c_str += '#endif //' + var_name.upper() + '_H'\n",
        "\n",
        "  return c_str\n",
        ""
      ],
      "metadata": {
        "id": "_M9yBPGER7hl"
      },
      "execution_count": 71,
      "outputs": []
    },
    {
      "cell_type": "code",
      "source": [
        "\n",
        "# Write TFLite model to a C source (or header) file\n",
        "with open(\"ydlidargs2\" + '.h', 'w') as file:\n",
        "  file.write(hex_to_c_array(tflite_model, \"ydlidargs2\"))"
      ],
      "metadata": {
        "id": "hjzcs8eKR-NN"
      },
      "execution_count": 72,
      "outputs": []
    }
  ]
}